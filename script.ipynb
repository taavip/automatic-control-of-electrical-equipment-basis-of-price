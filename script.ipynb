{
  "nbformat": 4,
  "nbformat_minor": 0,
  "metadata": {
    "colab": {
      "name": "script.ipynb",
      "provenance": [],
      "authorship_tag": "ABX9TyOtWkVZngoDKzrt6/uiuwBE",
      "include_colab_link": true
    },
    "kernelspec": {
      "name": "python3",
      "display_name": "Python 3"
    }
  },
  "cells": [
    {
      "cell_type": "markdown",
      "metadata": {
        "id": "view-in-github",
        "colab_type": "text"
      },
      "source": [
        "<a href=\"https://colab.research.google.com/github/taavip/automatic-control-of-electrical-equipment-basis-of-price/blob/main/script.ipynb\" target=\"_parent\"><img src=\"https://colab.research.google.com/assets/colab-badge.svg\" alt=\"Open In Colab\"/></a>"
      ]
    },
    {
      "cell_type": "code",
      "metadata": {
        "id": "oLdR7ItD8z8x"
      },
      "source": [
        "import requests\r\n",
        "import io\r\n",
        "import numpy as np\r\n",
        "import pandas as pd\r\n",
        "import matplotlib.pyplot as plt\r\n",
        "\r\n",
        "from datetime import datetime\r\n",
        "from datetime import timedelta\r\n",
        "from dateutil.relativedelta import relativedelta\r\n",
        "\r\n",
        "#-----------------------\r\n",
        "\r\n",
        "\r\n",
        "from sklearn.model_selection import TimeSeriesSplit\r\n",
        "from sklearn.linear_model import *\r\n",
        "from sklearn.neural_network import *\r\n",
        "from sklearn.neighbors import *\r\n",
        "from sklearn.ensemble import *\r\n",
        "from sklearn.svm import *\r\n",
        "from sklearn.model_selection import *\r\n",
        "\r\n"
      ],
      "execution_count": 1,
      "outputs": []
    },
    {
      "cell_type": "code",
      "metadata": {
        "id": "UKig3ntnX_yB"
      },
      "source": [
        "def get_tabel():\r\n",
        "  url = ('https://dashboard.elering.ee/api/nps/price?start='+str((datetime.now() + timedelta(hours=36)-relativedelta(years=1)).date().strftime(\"%Y-%m-%d %H:%M\"))+'&end='+str((datetime.now() + timedelta(hours=36)).date().strftime(\"%Y-%m-%d %H:%M\")))\r\n",
        "\r\n",
        "  response = requests.get(url).json()\r\n",
        "\r\n",
        "  ep=pd.json_normalize(response['data']['ee'])\r\n",
        "  ep['datetime'] = pd.to_datetime(ep['timestamp'], unit='s')\r\n",
        "  ep['dow'] = pd.to_datetime(ep['timestamp'], unit='s').dt.dayofweek\r\n",
        "  ep['hour'] = pd.to_datetime(ep['timestamp'], unit='s').dt.hour\r\n",
        "  ep['week'] = pd.to_datetime(ep['timestamp'], unit='s').dt.isocalendar().week\r\n",
        "\r\n",
        "  url=(\"http://ohuseire.ee/station/csv?filter%5BstationId%5D=36&filter%5BdateFrom%5D=\"+str((datetime.now() + timedelta(hours=36)-relativedelta(years=1)).date().strftime(\"%d.%m.%Y\"))+\"&filter%5BdateUntil%5D=\"+str((datetime.now() ).date().strftime(\"%d.%m.%Y\")))\r\n",
        "\r\n",
        "  s=requests.get(url).content\r\n",
        "  c=pd.read_csv(io.StringIO(s.decode('utf-8')), sep=';' )\r\n",
        "\r\n",
        "  c['timestamp'] = (pd.to_datetime(c[\"Kuupäev\"]) - pd.Timestamp(\"1970-01-01\")) // pd.Timedelta(\"1s\")\r\n",
        "  d = c[[\"WD10\",'timestamp']]\r\n",
        "  c = c.stack().str.replace(',','.').unstack()\r\n",
        "  c[\"NO2\"] = pd.to_numeric(c[\"NO2\"], errors='coerce')\r\n",
        "  c[\"CO\"] = pd.to_numeric(c[\"CO\"], errors='coerce')\r\n",
        "  c[\"PM10\"] = pd.to_numeric(c[\"PM10\"], errors='coerce')\r\n",
        "  c[\"HUM\"] = pd.to_numeric(c[\"HUM\"], errors='coerce')\r\n",
        "  c[\"PM2.5\"] = pd.to_numeric(c[\"PM2.5\"], errors='coerce')\r\n",
        "  c[\"TEMP\"] = pd.to_numeric(c[\"TEMP\"], errors='coerce')\r\n",
        "  c[\"WS10\"] = pd.to_numeric(c[\"WS10\"], errors='coerce')\r\n",
        "  c[\"WD10\"] = d[\"WD10\"]\r\n",
        "  c['timestamp'] = d['timestamp']\r\n",
        "  c= c.drop(\"Kuupäev\",axis=1)\r\n",
        "\r\n",
        "  #pd.merge(c, ep, on=['timestamp'])\r\n",
        "  return ep\r\n"
      ],
      "execution_count": 16,
      "outputs": []
    },
    {
      "cell_type": "code",
      "metadata": {
        "id": "ayXm4xxDqrQx"
      },
      "source": [
        "df = get_tabel()\r\n"
      ],
      "execution_count": 17,
      "outputs": []
    },
    {
      "cell_type": "code",
      "metadata": {
        "id": "ywMpM0KI8ANV",
        "colab": {
          "base_uri": "https://localhost:8080/"
        },
        "outputId": "50570b77-2bc2-4c0e-acb6-36d6c6c2f56f"
      },
      "source": [
        "df.info()"
      ],
      "execution_count": 18,
      "outputs": [
        {
          "output_type": "stream",
          "text": [
            "<class 'pandas.core.frame.DataFrame'>\n",
            "RangeIndex: 8783 entries, 0 to 8782\n",
            "Data columns (total 6 columns):\n",
            " #   Column     Non-Null Count  Dtype         \n",
            "---  ------     --------------  -----         \n",
            " 0   timestamp  8783 non-null   int64         \n",
            " 1   price      8783 non-null   float64       \n",
            " 2   datetime   8783 non-null   datetime64[ns]\n",
            " 3   dow        8783 non-null   int64         \n",
            " 4   hour       8783 non-null   int64         \n",
            " 5   week       8783 non-null   UInt32        \n",
            "dtypes: UInt32(1), datetime64[ns](1), float64(1), int64(3)\n",
            "memory usage: 386.1 KB\n"
          ],
          "name": "stdout"
        }
      ]
    },
    {
      "cell_type": "code",
      "metadata": {
        "id": "Aafy4Gk0H9ID",
        "colab": {
          "base_uri": "https://localhost:8080/",
          "height": 282
        },
        "outputId": "4a59a050-a71b-472d-cc06-f0f1a24aa2c7"
      },
      "source": [
        "df.price.plot.hist(bins=42, alpha=0.5)"
      ],
      "execution_count": 19,
      "outputs": [
        {
          "output_type": "execute_result",
          "data": {
            "text/plain": [
              "<matplotlib.axes._subplots.AxesSubplot at 0x7fcf1f9f04a8>"
            ]
          },
          "metadata": {
            "tags": []
          },
          "execution_count": 19
        },
        {
          "output_type": "display_data",
          "data": {
            "image/png": "[encoded data removed]",
            "text/plain": [
              "<Figure size 432x288 with 1 Axes>"
            ]
          },
          "metadata": {
            "tags": [],
            "needs_background": "light"
          }
        }
      ]
    },
    {
      "cell_type": "code",
      "metadata": {
        "id": "vxKcedml8Nn3",
        "colab": {
          "base_uri": "https://localhost:8080/",
          "height": 645
        },
        "outputId": "2aca228d-aae0-4194-a54c-397d74b638e7"
      },
      "source": [
        "#df['price'].plot(kind='hist', figsize=(10, 8), linewidth=2, color='whitesmoke', edgecolor='gray')\r\n",
        "plt.figure(figsize=(20,10))\r\n",
        "plt.hist(df['price'], bins=2250 )\r\n",
        "\r\n",
        "plt.xlabel(\"price [€]\", labelpad=15)\r\n",
        "plt.ylabel(\"frequency\", labelpad=15)\r\n",
        "#plt.xscale('log')\r\n",
        "#plt.yscale('log')\r\n",
        "plt.title(\"Distribution of price\", y=1.012, fontsize=22)\r\n",
        "measurements = [df['price'].mode()[0], df['price'].median(), df['price'].mean()]\r\n",
        "names = [\"mode\", \"median\", \"mean\"]\r\n",
        "colors = ['green', 'blue', 'orange']\r\n",
        "for measurement, name, color in zip(measurements, names, colors):\r\n",
        "    plt.axvline(x=measurement, linestyle='--', linewidth=2.5, label='{0} at {1}'.format(name, measurement), c=color)\r\n",
        "plt.legend();"
      ],
      "execution_count": 8,
      "outputs": [
        {
          "output_type": "display_data",
          "data": {
            "image/png": "[encoded data removed]",
            "text/plain": [
              "<Figure size 1440x720 with 1 Axes>"
            ]
          },
          "metadata": {
            "tags": [],
            "needs_background": "light"
          }
        }
      ]
    },
    {
      "cell_type": "code",
      "metadata": {
        "id": "94Nm3-1TN-Kj"
      },
      "source": [
        "def nsmall(a, n):\r\n",
        "    return np.partition(a, n)[n]"
      ],
      "execution_count": 20,
      "outputs": []
    },
    {
      "cell_type": "code",
      "metadata": {
        "id": "doFoji6BCkjB",
        "colab": {
          "base_uri": "https://localhost:8080/",
          "height": 1000
        },
        "outputId": "3b3c826a-003c-415c-c9d0-e4aeff606237"
      },
      "source": [
        "df[\"on_off\"] = df.price < df.price.rolling(window=23,min_periods=4,center=True).apply(lambda x: nsmall(x, 3))\r\n",
        "df.price.rolling(window=24,min_periods=1,)\r\n",
        "df.tail(50)"
      ],
      "execution_count": 23,
      "outputs": [
        {
          "output_type": "execute_result",
          "data": {
            "text/html": [
              "<div>\n",
              "<style scoped>\n",
              "    .dataframe tbody tr th:only-of-type {\n",
              "        vertical-align: middle;\n",
              "    }\n",
              "\n",
              "    .dataframe tbody tr th {\n",
              "        vertical-align: top;\n",
              "    }\n",
              "\n",
              "    .dataframe thead th {\n",
              "        text-align: right;\n",
              "    }\n",
              "</style>\n",
              "<table border=\"1\" class=\"dataframe\">\n",
              "  <thead>\n",
              "    <tr style=\"text-align: right;\">\n",
              "      <th></th>\n",
              "      <th>timestamp</th>\n",
              "      <th>price</th>\n",
              "      <th>datetime</th>\n",
              "      <th>dow</th>\n",
              "      <th>hour</th>\n",
              "      <th>week</th>\n",
              "      <th>on_off</th>\n",
              "    </tr>\n",
              "  </thead>\n",
              "  <tbody>\n",
              "    <tr>\n",
              "      <th>8733</th>\n",
              "      <td>1609189200</td>\n",
              "      <td>19.14</td>\n",
              "      <td>2020-12-28 21:00:00</td>\n",
              "      <td>0</td>\n",
              "      <td>21</td>\n",
              "      <td>53</td>\n",
              "      <td>False</td>\n",
              "    </tr>\n",
              "    <tr>\n",
              "      <th>8734</th>\n",
              "      <td>1609192800</td>\n",
              "      <td>15.91</td>\n",
              "      <td>2020-12-28 22:00:00</td>\n",
              "      <td>0</td>\n",
              "      <td>22</td>\n",
              "      <td>53</td>\n",
              "      <td>True</td>\n",
              "    </tr>\n",
              "    <tr>\n",
              "      <th>8735</th>\n",
              "      <td>1609196400</td>\n",
              "      <td>17.93</td>\n",
              "      <td>2020-12-28 23:00:00</td>\n",
              "      <td>0</td>\n",
              "      <td>23</td>\n",
              "      <td>53</td>\n",
              "      <td>False</td>\n",
              "    </tr>\n",
              "    <tr>\n",
              "      <th>8736</th>\n",
              "      <td>1609200000</td>\n",
              "      <td>17.91</td>\n",
              "      <td>2020-12-29 00:00:00</td>\n",
              "      <td>1</td>\n",
              "      <td>0</td>\n",
              "      <td>53</td>\n",
              "      <td>False</td>\n",
              "    </tr>\n",
              "    <tr>\n",
              "      <th>8737</th>\n",
              "      <td>1609203600</td>\n",
              "      <td>17.28</td>\n",
              "      <td>2020-12-29 01:00:00</td>\n",
              "      <td>1</td>\n",
              "      <td>1</td>\n",
              "      <td>53</td>\n",
              "      <td>True</td>\n",
              "    </tr>\n",
              "    <tr>\n",
              "      <th>8738</th>\n",
              "      <td>1609207200</td>\n",
              "      <td>17.47</td>\n",
              "      <td>2020-12-29 02:00:00</td>\n",
              "      <td>1</td>\n",
              "      <td>2</td>\n",
              "      <td>53</td>\n",
              "      <td>True</td>\n",
              "    </tr>\n",
              "    <tr>\n",
              "      <th>8739</th>\n",
              "      <td>1609210800</td>\n",
              "      <td>18.37</td>\n",
              "      <td>2020-12-29 03:00:00</td>\n",
              "      <td>1</td>\n",
              "      <td>3</td>\n",
              "      <td>53</td>\n",
              "      <td>False</td>\n",
              "    </tr>\n",
              "    <tr>\n",
              "      <th>8740</th>\n",
              "      <td>1609214400</td>\n",
              "      <td>20.71</td>\n",
              "      <td>2020-12-29 04:00:00</td>\n",
              "      <td>1</td>\n",
              "      <td>4</td>\n",
              "      <td>53</td>\n",
              "      <td>False</td>\n",
              "    </tr>\n",
              "    <tr>\n",
              "      <th>8741</th>\n",
              "      <td>1609218000</td>\n",
              "      <td>42.26</td>\n",
              "      <td>2020-12-29 05:00:00</td>\n",
              "      <td>1</td>\n",
              "      <td>5</td>\n",
              "      <td>53</td>\n",
              "      <td>False</td>\n",
              "    </tr>\n",
              "    <tr>\n",
              "      <th>8742</th>\n",
              "      <td>1609221600</td>\n",
              "      <td>48.07</td>\n",
              "      <td>2020-12-29 06:00:00</td>\n",
              "      <td>1</td>\n",
              "      <td>6</td>\n",
              "      <td>53</td>\n",
              "      <td>False</td>\n",
              "    </tr>\n",
              "    <tr>\n",
              "      <th>8743</th>\n",
              "      <td>1609225200</td>\n",
              "      <td>52.83</td>\n",
              "      <td>2020-12-29 07:00:00</td>\n",
              "      <td>1</td>\n",
              "      <td>7</td>\n",
              "      <td>53</td>\n",
              "      <td>False</td>\n",
              "    </tr>\n",
              "    <tr>\n",
              "      <th>8744</th>\n",
              "      <td>1609228800</td>\n",
              "      <td>53.72</td>\n",
              "      <td>2020-12-29 08:00:00</td>\n",
              "      <td>1</td>\n",
              "      <td>8</td>\n",
              "      <td>53</td>\n",
              "      <td>False</td>\n",
              "    </tr>\n",
              "    <tr>\n",
              "      <th>8745</th>\n",
              "      <td>1609232400</td>\n",
              "      <td>50.00</td>\n",
              "      <td>2020-12-29 09:00:00</td>\n",
              "      <td>1</td>\n",
              "      <td>9</td>\n",
              "      <td>53</td>\n",
              "      <td>False</td>\n",
              "    </tr>\n",
              "    <tr>\n",
              "      <th>8746</th>\n",
              "      <td>1609236000</td>\n",
              "      <td>52.82</td>\n",
              "      <td>2020-12-29 10:00:00</td>\n",
              "      <td>1</td>\n",
              "      <td>10</td>\n",
              "      <td>53</td>\n",
              "      <td>False</td>\n",
              "    </tr>\n",
              "    <tr>\n",
              "      <th>8747</th>\n",
              "      <td>1609239600</td>\n",
              "      <td>53.68</td>\n",
              "      <td>2020-12-29 11:00:00</td>\n",
              "      <td>1</td>\n",
              "      <td>11</td>\n",
              "      <td>53</td>\n",
              "      <td>False</td>\n",
              "    </tr>\n",
              "    <tr>\n",
              "      <th>8748</th>\n",
              "      <td>1609243200</td>\n",
              "      <td>52.73</td>\n",
              "      <td>2020-12-29 12:00:00</td>\n",
              "      <td>1</td>\n",
              "      <td>12</td>\n",
              "      <td>53</td>\n",
              "      <td>False</td>\n",
              "    </tr>\n",
              "    <tr>\n",
              "      <th>8749</th>\n",
              "      <td>1609246800</td>\n",
              "      <td>52.35</td>\n",
              "      <td>2020-12-29 13:00:00</td>\n",
              "      <td>1</td>\n",
              "      <td>13</td>\n",
              "      <td>53</td>\n",
              "      <td>False</td>\n",
              "    </tr>\n",
              "    <tr>\n",
              "      <th>8750</th>\n",
              "      <td>1609250400</td>\n",
              "      <td>53.27</td>\n",
              "      <td>2020-12-29 14:00:00</td>\n",
              "      <td>1</td>\n",
              "      <td>14</td>\n",
              "      <td>53</td>\n",
              "      <td>False</td>\n",
              "    </tr>\n",
              "    <tr>\n",
              "      <th>8751</th>\n",
              "      <td>1609254000</td>\n",
              "      <td>53.73</td>\n",
              "      <td>2020-12-29 15:00:00</td>\n",
              "      <td>1</td>\n",
              "      <td>15</td>\n",
              "      <td>53</td>\n",
              "      <td>False</td>\n",
              "    </tr>\n",
              "    <tr>\n",
              "      <th>8752</th>\n",
              "      <td>1609257600</td>\n",
              "      <td>54.06</td>\n",
              "      <td>2020-12-29 16:00:00</td>\n",
              "      <td>1</td>\n",
              "      <td>16</td>\n",
              "      <td>53</td>\n",
              "      <td>False</td>\n",
              "    </tr>\n",
              "    <tr>\n",
              "      <th>8753</th>\n",
              "      <td>1609261200</td>\n",
              "      <td>53.52</td>\n",
              "      <td>2020-12-29 17:00:00</td>\n",
              "      <td>1</td>\n",
              "      <td>17</td>\n",
              "      <td>53</td>\n",
              "      <td>False</td>\n",
              "    </tr>\n",
              "    <tr>\n",
              "      <th>8754</th>\n",
              "      <td>1609264800</td>\n",
              "      <td>49.62</td>\n",
              "      <td>2020-12-29 18:00:00</td>\n",
              "      <td>1</td>\n",
              "      <td>18</td>\n",
              "      <td>53</td>\n",
              "      <td>False</td>\n",
              "    </tr>\n",
              "    <tr>\n",
              "      <th>8755</th>\n",
              "      <td>1609268400</td>\n",
              "      <td>45.04</td>\n",
              "      <td>2020-12-29 19:00:00</td>\n",
              "      <td>1</td>\n",
              "      <td>19</td>\n",
              "      <td>53</td>\n",
              "      <td>False</td>\n",
              "    </tr>\n",
              "    <tr>\n",
              "      <th>8756</th>\n",
              "      <td>1609272000</td>\n",
              "      <td>38.40</td>\n",
              "      <td>2020-12-29 20:00:00</td>\n",
              "      <td>1</td>\n",
              "      <td>20</td>\n",
              "      <td>53</td>\n",
              "      <td>False</td>\n",
              "    </tr>\n",
              "    <tr>\n",
              "      <th>8757</th>\n",
              "      <td>1609275600</td>\n",
              "      <td>20.09</td>\n",
              "      <td>2020-12-29 21:00:00</td>\n",
              "      <td>1</td>\n",
              "      <td>21</td>\n",
              "      <td>53</td>\n",
              "      <td>False</td>\n",
              "    </tr>\n",
              "    <tr>\n",
              "      <th>8758</th>\n",
              "      <td>1609279200</td>\n",
              "      <td>17.61</td>\n",
              "      <td>2020-12-29 22:00:00</td>\n",
              "      <td>1</td>\n",
              "      <td>22</td>\n",
              "      <td>53</td>\n",
              "      <td>True</td>\n",
              "    </tr>\n",
              "    <tr>\n",
              "      <th>8759</th>\n",
              "      <td>1609282800</td>\n",
              "      <td>19.78</td>\n",
              "      <td>2020-12-29 23:00:00</td>\n",
              "      <td>1</td>\n",
              "      <td>23</td>\n",
              "      <td>53</td>\n",
              "      <td>False</td>\n",
              "    </tr>\n",
              "    <tr>\n",
              "      <th>8760</th>\n",
              "      <td>1609286400</td>\n",
              "      <td>18.04</td>\n",
              "      <td>2020-12-30 00:00:00</td>\n",
              "      <td>2</td>\n",
              "      <td>0</td>\n",
              "      <td>53</td>\n",
              "      <td>False</td>\n",
              "    </tr>\n",
              "    <tr>\n",
              "      <th>8761</th>\n",
              "      <td>1609290000</td>\n",
              "      <td>17.51</td>\n",
              "      <td>2020-12-30 01:00:00</td>\n",
              "      <td>2</td>\n",
              "      <td>1</td>\n",
              "      <td>53</td>\n",
              "      <td>True</td>\n",
              "    </tr>\n",
              "    <tr>\n",
              "      <th>8762</th>\n",
              "      <td>1609293600</td>\n",
              "      <td>17.70</td>\n",
              "      <td>2020-12-30 02:00:00</td>\n",
              "      <td>2</td>\n",
              "      <td>2</td>\n",
              "      <td>53</td>\n",
              "      <td>True</td>\n",
              "    </tr>\n",
              "    <tr>\n",
              "      <th>8763</th>\n",
              "      <td>1609297200</td>\n",
              "      <td>20.48</td>\n",
              "      <td>2020-12-30 03:00:00</td>\n",
              "      <td>2</td>\n",
              "      <td>3</td>\n",
              "      <td>53</td>\n",
              "      <td>False</td>\n",
              "    </tr>\n",
              "    <tr>\n",
              "      <th>8764</th>\n",
              "      <td>1609300800</td>\n",
              "      <td>28.49</td>\n",
              "      <td>2020-12-30 04:00:00</td>\n",
              "      <td>2</td>\n",
              "      <td>4</td>\n",
              "      <td>53</td>\n",
              "      <td>False</td>\n",
              "    </tr>\n",
              "    <tr>\n",
              "      <th>8765</th>\n",
              "      <td>1609304400</td>\n",
              "      <td>36.08</td>\n",
              "      <td>2020-12-30 05:00:00</td>\n",
              "      <td>2</td>\n",
              "      <td>5</td>\n",
              "      <td>53</td>\n",
              "      <td>False</td>\n",
              "    </tr>\n",
              "    <tr>\n",
              "      <th>8766</th>\n",
              "      <td>1609308000</td>\n",
              "      <td>53.25</td>\n",
              "      <td>2020-12-30 06:00:00</td>\n",
              "      <td>2</td>\n",
              "      <td>6</td>\n",
              "      <td>53</td>\n",
              "      <td>False</td>\n",
              "    </tr>\n",
              "    <tr>\n",
              "      <th>8767</th>\n",
              "      <td>1609311600</td>\n",
              "      <td>54.13</td>\n",
              "      <td>2020-12-30 07:00:00</td>\n",
              "      <td>2</td>\n",
              "      <td>7</td>\n",
              "      <td>53</td>\n",
              "      <td>False</td>\n",
              "    </tr>\n",
              "    <tr>\n",
              "      <th>8768</th>\n",
              "      <td>1609315200</td>\n",
              "      <td>54.56</td>\n",
              "      <td>2020-12-30 08:00:00</td>\n",
              "      <td>2</td>\n",
              "      <td>8</td>\n",
              "      <td>53</td>\n",
              "      <td>False</td>\n",
              "    </tr>\n",
              "    <tr>\n",
              "      <th>8769</th>\n",
              "      <td>1609318800</td>\n",
              "      <td>61.01</td>\n",
              "      <td>2020-12-30 09:00:00</td>\n",
              "      <td>2</td>\n",
              "      <td>9</td>\n",
              "      <td>53</td>\n",
              "      <td>False</td>\n",
              "    </tr>\n",
              "    <tr>\n",
              "      <th>8770</th>\n",
              "      <td>1609322400</td>\n",
              "      <td>54.57</td>\n",
              "      <td>2020-12-30 10:00:00</td>\n",
              "      <td>2</td>\n",
              "      <td>10</td>\n",
              "      <td>53</td>\n",
              "      <td>False</td>\n",
              "    </tr>\n",
              "    <tr>\n",
              "      <th>8771</th>\n",
              "      <td>1609326000</td>\n",
              "      <td>54.29</td>\n",
              "      <td>2020-12-30 11:00:00</td>\n",
              "      <td>2</td>\n",
              "      <td>11</td>\n",
              "      <td>53</td>\n",
              "      <td>False</td>\n",
              "    </tr>\n",
              "    <tr>\n",
              "      <th>8772</th>\n",
              "      <td>1609329600</td>\n",
              "      <td>53.67</td>\n",
              "      <td>2020-12-30 12:00:00</td>\n",
              "      <td>2</td>\n",
              "      <td>12</td>\n",
              "      <td>53</td>\n",
              "      <td>False</td>\n",
              "    </tr>\n",
              "    <tr>\n",
              "      <th>8773</th>\n",
              "      <td>1609333200</td>\n",
              "      <td>54.20</td>\n",
              "      <td>2020-12-30 13:00:00</td>\n",
              "      <td>2</td>\n",
              "      <td>13</td>\n",
              "      <td>53</td>\n",
              "      <td>False</td>\n",
              "    </tr>\n",
              "    <tr>\n",
              "      <th>8774</th>\n",
              "      <td>1609336800</td>\n",
              "      <td>54.96</td>\n",
              "      <td>2020-12-30 14:00:00</td>\n",
              "      <td>2</td>\n",
              "      <td>14</td>\n",
              "      <td>53</td>\n",
              "      <td>False</td>\n",
              "    </tr>\n",
              "    <tr>\n",
              "      <th>8775</th>\n",
              "      <td>1609340400</td>\n",
              "      <td>65.32</td>\n",
              "      <td>2020-12-30 15:00:00</td>\n",
              "      <td>2</td>\n",
              "      <td>15</td>\n",
              "      <td>53</td>\n",
              "      <td>False</td>\n",
              "    </tr>\n",
              "    <tr>\n",
              "      <th>8776</th>\n",
              "      <td>1609344000</td>\n",
              "      <td>60.00</td>\n",
              "      <td>2020-12-30 16:00:00</td>\n",
              "      <td>2</td>\n",
              "      <td>16</td>\n",
              "      <td>53</td>\n",
              "      <td>False</td>\n",
              "    </tr>\n",
              "    <tr>\n",
              "      <th>8777</th>\n",
              "      <td>1609347600</td>\n",
              "      <td>54.97</td>\n",
              "      <td>2020-12-30 17:00:00</td>\n",
              "      <td>2</td>\n",
              "      <td>17</td>\n",
              "      <td>53</td>\n",
              "      <td>False</td>\n",
              "    </tr>\n",
              "    <tr>\n",
              "      <th>8778</th>\n",
              "      <td>1609351200</td>\n",
              "      <td>52.32</td>\n",
              "      <td>2020-12-30 18:00:00</td>\n",
              "      <td>2</td>\n",
              "      <td>18</td>\n",
              "      <td>53</td>\n",
              "      <td>False</td>\n",
              "    </tr>\n",
              "    <tr>\n",
              "      <th>8779</th>\n",
              "      <td>1609354800</td>\n",
              "      <td>55.09</td>\n",
              "      <td>2020-12-30 19:00:00</td>\n",
              "      <td>2</td>\n",
              "      <td>19</td>\n",
              "      <td>53</td>\n",
              "      <td>False</td>\n",
              "    </tr>\n",
              "    <tr>\n",
              "      <th>8780</th>\n",
              "      <td>1609358400</td>\n",
              "      <td>52.13</td>\n",
              "      <td>2020-12-30 20:00:00</td>\n",
              "      <td>2</td>\n",
              "      <td>20</td>\n",
              "      <td>53</td>\n",
              "      <td>True</td>\n",
              "    </tr>\n",
              "    <tr>\n",
              "      <th>8781</th>\n",
              "      <td>1609362000</td>\n",
              "      <td>23.13</td>\n",
              "      <td>2020-12-30 21:00:00</td>\n",
              "      <td>2</td>\n",
              "      <td>21</td>\n",
              "      <td>53</td>\n",
              "      <td>True</td>\n",
              "    </tr>\n",
              "    <tr>\n",
              "      <th>8782</th>\n",
              "      <td>1609365600</td>\n",
              "      <td>20.94</td>\n",
              "      <td>2020-12-30 22:00:00</td>\n",
              "      <td>2</td>\n",
              "      <td>22</td>\n",
              "      <td>53</td>\n",
              "      <td>True</td>\n",
              "    </tr>\n",
              "  </tbody>\n",
              "</table>\n",
              "</div>"
            ],
            "text/plain": [
              "       timestamp  price            datetime  dow  hour  week  on_off\n",
              "8733  1609189200  19.14 2020-12-28 21:00:00    0    21    53   False\n",
              "8734  1609192800  15.91 2020-12-28 22:00:00    0    22    53    True\n",
              "8735  1609196400  17.93 2020-12-28 23:00:00    0    23    53   False\n",
              "8736  1609200000  17.91 2020-12-29 00:00:00    1     0    53   False\n",
              "8737  1609203600  17.28 2020-12-29 01:00:00    1     1    53    True\n",
              "8738  1609207200  17.47 2020-12-29 02:00:00    1     2    53    True\n",
              "8739  1609210800  18.37 2020-12-29 03:00:00    1     3    53   False\n",
              "8740  1609214400  20.71 2020-12-29 04:00:00    1     4    53   False\n",
              "8741  1609218000  42.26 2020-12-29 05:00:00    1     5    53   False\n",
              "8742  1609221600  48.07 2020-12-29 06:00:00    1     6    53   False\n",
              "8743  1609225200  52.83 2020-12-29 07:00:00    1     7    53   False\n",
              "8744  1609228800  53.72 2020-12-29 08:00:00    1     8    53   False\n",
              "8745  1609232400  50.00 2020-12-29 09:00:00    1     9    53   False\n",
              "8746  1609236000  52.82 2020-12-29 10:00:00    1    10    53   False\n",
              "8747  1609239600  53.68 2020-12-29 11:00:00    1    11    53   False\n",
              "8748  1609243200  52.73 2020-12-29 12:00:00    1    12    53   False\n",
              "8749  1609246800  52.35 2020-12-29 13:00:00    1    13    53   False\n",
              "8750  1609250400  53.27 2020-12-29 14:00:00    1    14    53   False\n",
              "8751  1609254000  53.73 2020-12-29 15:00:00    1    15    53   False\n",
              "8752  1609257600  54.06 2020-12-29 16:00:00    1    16    53   False\n",
              "8753  1609261200  53.52 2020-12-29 17:00:00    1    17    53   False\n",
              "8754  1609264800  49.62 2020-12-29 18:00:00    1    18    53   False\n",
              "8755  1609268400  45.04 2020-12-29 19:00:00    1    19    53   False\n",
              "8756  1609272000  38.40 2020-12-29 20:00:00    1    20    53   False\n",
              "8757  1609275600  20.09 2020-12-29 21:00:00    1    21    53   False\n",
              "8758  1609279200  17.61 2020-12-29 22:00:00    1    22    53    True\n",
              "8759  1609282800  19.78 2020-12-29 23:00:00    1    23    53   False\n",
              "8760  1609286400  18.04 2020-12-30 00:00:00    2     0    53   False\n",
              "8761  1609290000  17.51 2020-12-30 01:00:00    2     1    53    True\n",
              "8762  1609293600  17.70 2020-12-30 02:00:00    2     2    53    True\n",
              "8763  1609297200  20.48 2020-12-30 03:00:00    2     3    53   False\n",
              "8764  1609300800  28.49 2020-12-30 04:00:00    2     4    53   False\n",
              "8765  1609304400  36.08 2020-12-30 05:00:00    2     5    53   False\n",
              "8766  1609308000  53.25 2020-12-30 06:00:00    2     6    53   False\n",
              "8767  1609311600  54.13 2020-12-30 07:00:00    2     7    53   False\n",
              "8768  1609315200  54.56 2020-12-30 08:00:00    2     8    53   False\n",
              "8769  1609318800  61.01 2020-12-30 09:00:00    2     9    53   False\n",
              "8770  1609322400  54.57 2020-12-30 10:00:00    2    10    53   False\n",
              "8771  1609326000  54.29 2020-12-30 11:00:00    2    11    53   False\n",
              "8772  1609329600  53.67 2020-12-30 12:00:00    2    12    53   False\n",
              "8773  1609333200  54.20 2020-12-30 13:00:00    2    13    53   False\n",
              "8774  1609336800  54.96 2020-12-30 14:00:00    2    14    53   False\n",
              "8775  1609340400  65.32 2020-12-30 15:00:00    2    15    53   False\n",
              "8776  1609344000  60.00 2020-12-30 16:00:00    2    16    53   False\n",
              "8777  1609347600  54.97 2020-12-30 17:00:00    2    17    53   False\n",
              "8778  1609351200  52.32 2020-12-30 18:00:00    2    18    53   False\n",
              "8779  1609354800  55.09 2020-12-30 19:00:00    2    19    53   False\n",
              "8780  1609358400  52.13 2020-12-30 20:00:00    2    20    53    True\n",
              "8781  1609362000  23.13 2020-12-30 21:00:00    2    21    53    True\n",
              "8782  1609365600  20.94 2020-12-30 22:00:00    2    22    53    True"
            ]
          },
          "metadata": {
            "tags": []
          },
          "execution_count": 23
        }
      ]
    },
    {
      "cell_type": "code",
      "metadata": {
        "id": "0Kz5MSa8dyMy"
      },
      "source": [
        "import sklearn.metrics as metrics\r\n",
        "def regression_results(y_true, y_pred):\r\n",
        "# Regression metrics\r\n",
        "    explained_variance=metrics.explained_variance_score(y_true, y_pred)\r\n",
        "    mean_absolute_error=metrics.mean_absolute_error(y_true, y_pred) \r\n",
        "    mse=metrics.mean_squared_error(y_true, y_pred) \r\n",
        "    mean_squared_log_error=metrics.mean_squared_log_error(y_true+abs(y_true.min()), y_pred+abs(y_true.min()))\r\n",
        "    median_absolute_error=metrics.median_absolute_error(y_true, y_pred)\r\n",
        "    r2=metrics.r2_score(y_true, y_pred)\r\n",
        "    print('explained_variance: ', round(explained_variance,4))    \r\n",
        "    print('mean_squared_log_error: ', round(mean_squared_log_error,4))\r\n",
        "    print('r2: ', round(r2,4))\r\n",
        "    print('MAE: ', round(mean_absolute_error,4))\r\n",
        "    print('MSE: ', round(mse,4))\r\n",
        "    print('RMSE: ', round(np.sqrt(mse),4))"
      ],
      "execution_count": null,
      "outputs": []
    },
    {
      "cell_type": "code",
      "metadata": {
        "id": "2T4lxwZZhpjG"
      },
      "source": [
        "data = df.copy()\r\n",
        "# creating new dataframe from consumption column\r\n",
        "data_consumption = df.copy()\r\n",
        "# inserting new column with yesterday's consumption values\r\n",
        "#data_consumption.loc[:,'1h'] = data_consumption.loc[:,'price'].shift()\r\n",
        "# inserting another column with difference between yesterday and day before yesterday's consumption values.\r\n",
        "#data_consumption.loc[:,'1h_Diff'] = data_consumption.loc[:,'1h'].diff()\r\n",
        "\r\n",
        "data_consumption['avg24h'] = data_consumption.price.rolling(window=24,min_periods=1).mean()\r\n",
        "# dropping NAs\r\n",
        "data_consumption = data_consumption.dropna()\r\n"
      ],
      "execution_count": null,
      "outputs": []
    },
    {
      "cell_type": "code",
      "metadata": {
        "id": "Tp4DhQHTtfCt",
        "colab": {
          "base_uri": "https://localhost:8080/"
        },
        "outputId": "b7020678-83d3-4e30-b501-dd0e74b3b5cf"
      },
      "source": [
        "\r\n",
        "len(data_consumption[:int(len(data_consumption[:])*0.8)])"
      ],
      "execution_count": null,
      "outputs": [
        {
          "output_type": "execute_result",
          "data": {
            "text/plain": [
              "92"
            ]
          },
          "metadata": {
            "tags": []
          },
          "execution_count": 9
        }
      ]
    },
    {
      "cell_type": "code",
      "metadata": {
        "id": "NrkEaCtdiMOk",
        "colab": {
          "base_uri": "https://localhost:8080/"
        },
        "outputId": "74635704-db42-4f5a-cc0c-0abdcedb5854"
      },
      "source": [
        "num = int(len(data_consumption[:])*0.8)\r\n",
        "print(num)\r\n",
        "X_train = data_consumption[:num].drop(['price', 'datetime'], axis = 1)\r\n",
        "y_train = data_consumption.price[:num]\r\n",
        "X_test = data_consumption[num:].drop(['price','datetime'], axis = 1)\r\n",
        "y_test = data_consumption.price[num:]"
      ],
      "execution_count": null,
      "outputs": [
        {
          "output_type": "stream",
          "text": [
            "92\n"
          ],
          "name": "stdout"
        }
      ]
    },
    {
      "cell_type": "code",
      "metadata": {
        "id": "8U7NouDKywcK",
        "colab": {
          "base_uri": "https://localhost:8080/"
        },
        "outputId": "f64a8884-4dc1-41c5-b46f-8ed8933cd9da"
      },
      "source": [
        "y_train"
      ],
      "execution_count": null,
      "outputs": [
        {
          "output_type": "execute_result",
          "data": {
            "text/plain": [
              "0     40.20\n",
              "1      9.26\n",
              "2     40.14\n",
              "3      8.85\n",
              "4      5.77\n",
              "      ...  \n",
              "89    40.10\n",
              "90    44.82\n",
              "91    57.19\n",
              "92    57.18\n",
              "93    62.72\n",
              "Name: price, Length: 92, dtype: float64"
            ]
          },
          "metadata": {
            "tags": []
          },
          "execution_count": 11
        }
      ]
    },
    {
      "cell_type": "code",
      "metadata": {
        "id": "GGqUoBM2vqp6",
        "colab": {
          "base_uri": "https://localhost:8080/",
          "height": 570
        },
        "outputId": "18265a2a-7062-4196-e61a-d02bd15de59c"
      },
      "source": [
        "\r\n",
        "\r\n",
        "# Spot Check Algorithms\r\n",
        "models = []\r\n",
        "models.append(('LR', LinearRegression()))\r\n",
        "models.append(('NN', MLPRegressor(solver = 'lbfgs')))  #neural network\r\n",
        "models.append(('KNN', KNeighborsRegressor())) \r\n",
        "models.append(('RF', RandomForestRegressor(n_estimators = 10))) # Ensemble method - collection of many decision trees\r\n",
        "models.append(('SVR', SVR(gamma='auto'))) # kernel = linear\r\n",
        "# Evaluate each model in turn\r\n",
        "results = []\r\n",
        "names = []\r\n",
        "for name, model in models:\r\n",
        "    # TimeSeries Cross validation\r\n",
        " tscv = TimeSeriesSplit(n_splits=10)\r\n",
        "    \r\n",
        " cv_results = cross_val_score(model, X_train, y_train, cv=tscv, scoring='r2')\r\n",
        " results.append(cv_results)\r\n",
        " names.append(name)\r\n",
        " print('%s: %f (%f)' % (name, cv_results.mean(), cv_results.std()))\r\n",
        "    \r\n",
        "# Compare Algorithms\r\n",
        "plt.boxplot(results, labels=names)\r\n",
        "plt.title('Algorithm Comparison')\r\n",
        "plt.show()"
      ],
      "execution_count": null,
      "outputs": [
        {
          "output_type": "stream",
          "text": [
            "LR: -418.318953 (898.288621)\n",
            "NN: -75.820861 (177.311186)\n",
            "KNN: -120.539107 (313.985129)\n"
          ],
          "name": "stdout"
        },
        {
          "output_type": "stream",
          "text": [
            "/usr/local/lib/python3.6/dist-packages/sklearn/neural_network/_multilayer_perceptron.py:470: ConvergenceWarning: lbfgs failed to converge (status=2):\n",
            "ABNORMAL_TERMINATION_IN_LNSRCH.\n",
            "\n",
            "Increase the number of iterations (max_iter) or scale the data as shown in:\n",
            "    https://scikit-learn.org/stable/modules/preprocessing.html\n",
            "  self.n_iter_ = _check_optimize_result(\"lbfgs\", opt_res, self.max_iter)\n",
            "/usr/local/lib/python3.6/dist-packages/sklearn/neural_network/_multilayer_perceptron.py:470: ConvergenceWarning: lbfgs failed to converge (status=2):\n",
            "ABNORMAL_TERMINATION_IN_LNSRCH.\n",
            "\n",
            "Increase the number of iterations (max_iter) or scale the data as shown in:\n",
            "    https://scikit-learn.org/stable/modules/preprocessing.html\n",
            "  self.n_iter_ = _check_optimize_result(\"lbfgs\", opt_res, self.max_iter)\n"
          ],
          "name": "stderr"
        },
        {
          "output_type": "stream",
          "text": [
            "RF: -97.861625 (251.860802)\n",
            "SVR: -42.796049 (107.034553)\n"
          ],
          "name": "stdout"
        },
        {
          "output_type": "display_data",
          "data": {
            "image/png": "[encoded data removed]",
            "text/plain": [
              "<Figure size 432x288 with 1 Axes>"
            ]
          },
          "metadata": {
            "tags": [],
            "needs_background": "light"
          }
        }
      ]
    },
    {
      "cell_type": "code",
      "metadata": {
        "id": "0y8mOdgjv7nz"
      },
      "source": [
        "from sklearn.model_selection import GridSearchCV\r\n",
        "from sklearn.metrics import *\r\n",
        "\r\n",
        "\r\n",
        "model = RandomForestRegressor()\r\n",
        "param_search = { \r\n",
        "    'n_estimators': [ 100, 200, 300],\r\n",
        "    'max_features': ['auto', 'sqrt', 'log2'],\r\n",
        "    'max_depth' : [i for i in range(3,11)]\r\n",
        "}\r\n",
        "tscv = TimeSeriesSplit(n_splits=10)\r\n",
        "gsearch = GridSearchCV(estimator=model, cv=tscv, param_grid=param_search, scoring = 'neg_mean_squared_error')\r\n",
        "gsearch.fit(X_train, y_train)\r\n",
        "best_score = gsearch.best_score_\r\n",
        "best_model = gsearch.best_estimator_"
      ],
      "execution_count": null,
      "outputs": []
    },
    {
      "cell_type": "code",
      "metadata": {
        "id": "1rTD9Ac744-F",
        "colab": {
          "base_uri": "https://localhost:8080/"
        },
        "outputId": "2fdafba4-97e8-426d-b5b2-abb7ed5edd3d"
      },
      "source": [
        "y_true = y_test.values\r\n",
        "y_pred = best_model.predict(X_test)\r\n",
        "regression_results(y_true, y_pred)"
      ],
      "execution_count": null,
      "outputs": [
        {
          "output_type": "stream",
          "text": [
            "explained_variance:  0.2523\n",
            "mean_squared_log_error:  0.1343\n",
            "r2:  0.2402\n",
            "MAE:  15.0873\n",
            "MSE:  279.8513\n",
            "RMSE:  16.7288\n"
          ],
          "name": "stdout"
        }
      ]
    },
    {
      "cell_type": "code",
      "metadata": {
        "id": "iEbEgyNS_aVr",
        "colab": {
          "base_uri": "https://localhost:8080/",
          "height": 295
        },
        "outputId": "4f9f5010-9453-446a-d706-02934fb20310"
      },
      "source": [
        "imp = best_model.feature_importances_\r\n",
        "features = X_train.columns\r\n",
        "indices = np.argsort(imp)\r\n",
        "plt.title('Feature Importances')\r\n",
        "plt.barh(range(len(indices)), imp[indices], color='b', align='center')\r\n",
        "plt.yticks(range(len(indices)), [features[i] for i in indices])\r\n",
        "plt.xlabel('Relative Importance')\r\n",
        "plt.show()"
      ],
      "execution_count": null,
      "outputs": [
        {
          "output_type": "display_data",
          "data": {
            "image/png": "[encoded data removed]",
            "text/plain": [
              "<Figure size 432x288 with 1 Axes>"
            ]
          },
          "metadata": {
            "tags": [],
            "needs_background": "light"
          }
        }
      ]
    },
    {
      "cell_type": "code",
      "metadata": {
        "id": "PUAtBRXRIetB",
        "colab": {
          "base_uri": "https://localhost:8080/",
          "height": 609
        },
        "outputId": "7f3f4d4c-d4f7-4e1f-e039-8dd0f19e5af5"
      },
      "source": [
        "a =df.loc[:,['price','datetime']][-35:]\r\n",
        "\r\n",
        "plt.figure(figsize=(20,10))\r\n",
        "plt.plot(pd.to_datetime(a.datetime).dt.tz_localize('Europe/Tallinn'), a.price,  marker='o')\r\n",
        "plt.plot(pd.to_datetime( X_test['timestamp'][-35:], unit='s').dt.tz_localize('Europe/Tallinn'), best_model.predict(X_test)[-35:],  marker='o',color='green')\r\n",
        "#plt.plot(pd.to_datetime( X_test['timestamp'][-35:], unit='s').dt.tz_localize('Europe/Tallinn'), best_model.predict(X_test)[-35:]-a.price,  marker='x',color='cyan')\r\n",
        "plt.grid(b=None, which='major', axis='both')\r\n",
        "plt.axvline(x= pd.Timestamp.now(tz = 'Europe/Tallinn'), color='red')"
      ],
      "execution_count": null,
      "outputs": [
        {
          "output_type": "execute_result",
          "data": {
            "text/plain": [
              "<matplotlib.lines.Line2D at 0x7f421fe18400>"
            ]
          },
          "metadata": {
            "tags": []
          },
          "execution_count": 16
        },
        {
          "output_type": "display_data",
          "data": {
            "image/png": "[encoded data removed]",
            "text/plain": [
              "<Figure size 1440x720 with 1 Axes>"
            ]
          },
          "metadata": {
            "tags": [],
            "needs_background": "light"
          }
        }
      ]
    },
    {
      "cell_type": "code",
      "metadata": {
        "id": "p3_qEw-3bnBq"
      },
      "source": [
        ""
      ],
      "execution_count": null,
      "outputs": []
    }
  ]
}