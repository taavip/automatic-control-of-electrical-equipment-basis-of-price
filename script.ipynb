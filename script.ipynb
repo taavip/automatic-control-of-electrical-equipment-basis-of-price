{
  "nbformat": 4,
  "nbformat_minor": 0,
  "metadata": {
    "colab": {
      "name": "script.ipynb",
      "provenance": [],
      "authorship_tag": "ABX9TyPvgcTN4Y4oS9ITPdGkgMcx",
      "include_colab_link": true
    },
    "kernelspec": {
      "name": "python3",
      "display_name": "Python 3"
    }
  },
  "cells": [
    {
      "cell_type": "markdown",
      "metadata": {
        "id": "view-in-github",
        "colab_type": "text"
      },
      "source": [
        "<a href=\"https://colab.research.google.com/github/taavip/automatic-control-of-electrical-equipment-basis-of-price/blob/main/script.ipynb\" target=\"_parent\"><img src=\"https://colab.research.google.com/assets/colab-badge.svg\" alt=\"Open In Colab\"/></a>"
      ]
    },
    {
      "cell_type": "code",
      "metadata": {
        "id": "oLdR7ItD8z8x"
      },
      "source": [
        "import requests\r\n",
        "import io\r\n",
        "import numpy as np\r\n",
        "import pandas as pd\r\n",
        "import matplotlib.pyplot as plt\r\n",
        "\r\n",
        "from datetime import datetime\r\n",
        "from datetime import timedelta\r\n",
        "from dateutil.relativedelta import relativedelta\r\n",
        "\r\n",
        "#-----------------------\r\n",
        "\r\n",
        "\r\n",
        "from sklearn.model_selection import TimeSeriesSplit\r\n",
        "from sklearn.linear_model import *\r\n",
        "from sklearn.neural_network import *\r\n",
        "from sklearn.neighbors import *\r\n",
        "from sklearn.ensemble import *\r\n",
        "from sklearn.svm import *\r\n",
        "from sklearn.model_selection import *\r\n",
        "\r\n"
      ],
      "execution_count": 1,
      "outputs": []
    },
    {
      "cell_type": "code",
      "metadata": {
        "id": "UKig3ntnX_yB"
      },
      "source": [
        "def get_tabel():\r\n",
        "  url = ('https://dashboard.elering.ee/api/nps/price?start='+str((datetime.now() + timedelta(hours=36)-relativedelta(years=1)).date().strftime(\"%Y-%m-%d %H:%M\"))+'&end='+str((datetime.now() + timedelta(hours=36)).date().strftime(\"%Y-%m-%d %H:%M\")))\r\n",
        "\r\n",
        "  response = requests.get(url).json()\r\n",
        "\r\n",
        "  ep=pd.json_normalize(response['data']['ee'])\r\n",
        "\r\n",
        "  url=(\"http://ohuseire.ee/station/csv?filter%5BstationId%5D=36&filter%5BdateFrom%5D=\"+str((datetime.now() + timedelta(hours=36)-relativedelta(years=1)).date().strftime(\"%d.%m.%Y\"))+\"&filter%5BdateUntil%5D=\"+str((datetime.now() ).date().strftime(\"%d.%m.%Y\")))\r\n",
        "\r\n",
        "  s=requests.get(url).content\r\n",
        "  c=pd.read_csv(io.StringIO(s.decode('utf-8')), sep=';' )\r\n",
        "\r\n",
        "  c['timestamp'] = (pd.to_datetime(c[\"Kuupäev\"]) - pd.Timestamp(\"1970-01-01\")) // pd.Timedelta(\"1s\")\r\n",
        "  d = c[[\"WD10\",'timestamp']]\r\n",
        "  c = c.stack().str.replace(',','.').unstack()\r\n",
        "  c[\"NO2\"] = pd.to_numeric(c[\"NO2\"], errors='coerce')\r\n",
        "  c[\"CO\"] = pd.to_numeric(c[\"CO\"], errors='coerce')\r\n",
        "  c[\"PM10\"] = pd.to_numeric(c[\"PM10\"], errors='coerce')\r\n",
        "  c[\"HUM\"] = pd.to_numeric(c[\"HUM\"], errors='coerce')\r\n",
        "  c[\"PM2.5\"] = pd.to_numeric(c[\"PM2.5\"], errors='coerce')\r\n",
        "  c[\"TEMP\"] = pd.to_numeric(c[\"TEMP\"], errors='coerce')\r\n",
        "  c[\"WS10\"] = pd.to_numeric(c[\"WS10\"], errors='coerce')\r\n",
        "  c[\"WD10\"] = d[\"WD10\"]\r\n",
        "  c['timestamp'] = d['timestamp']\r\n",
        "  c= c.drop(\"Kuupäev\",axis=1)\r\n",
        "  c['datetime'] = pd.to_datetime(c['timestamp'], unit='s')\r\n",
        "  c['dow'] = pd.to_datetime(c['timestamp'], unit='s').dt.dayofweek\r\n",
        "  c['hour'] = pd.to_datetime(c['timestamp'], unit='s').dt.hour\r\n",
        "  c['week'] = pd.to_datetime(c['timestamp'], unit='s').dt.isocalendar().week\r\n",
        "  #pd.merge(c, ep, on=['timestamp'])\r\n",
        "  return ep\r\n"
      ],
      "execution_count": 17,
      "outputs": []
    },
    {
      "cell_type": "code",
      "metadata": {
        "id": "ayXm4xxDqrQx"
      },
      "source": [
        "df = get_tabel()\r\n"
      ],
      "execution_count": 18,
      "outputs": []
    },
    {
      "cell_type": "code",
      "metadata": {
        "id": "ywMpM0KI8ANV",
        "colab": {
          "base_uri": "https://localhost:8080/"
        },
        "outputId": "d32103d5-bca0-44e9-fbf8-b66c1215bacc"
      },
      "source": [
        "df.info()"
      ],
      "execution_count": 19,
      "outputs": [
        {
          "output_type": "stream",
          "text": [
            "<class 'pandas.core.frame.DataFrame'>\n",
            "RangeIndex: 8783 entries, 0 to 8782\n",
            "Data columns (total 2 columns):\n",
            " #   Column     Non-Null Count  Dtype  \n",
            "---  ------     --------------  -----  \n",
            " 0   timestamp  8783 non-null   int64  \n",
            " 1   price      8783 non-null   float64\n",
            "dtypes: float64(1), int64(1)\n",
            "memory usage: 137.4 KB\n"
          ],
          "name": "stdout"
        }
      ]
    },
    {
      "cell_type": "code",
      "metadata": {
        "id": "Aafy4Gk0H9ID",
        "colab": {
          "base_uri": "https://localhost:8080/",
          "height": 282
        },
        "outputId": "0cc2dd44-8742-46b4-b135-290e93c390ee"
      },
      "source": [
        "df.price.plot.hist(bins=42, alpha=0.5)"
      ],
      "execution_count": 20,
      "outputs": [
        {
          "output_type": "execute_result",
          "data": {
            "text/plain": [
              "<matplotlib.axes._subplots.AxesSubplot at 0x7f421fdebf98>"
            ]
          },
          "metadata": {
            "tags": []
          },
          "execution_count": 20
        },
        {
          "output_type": "display_data",
          "data": {
            "image/png": "[encoded data removed]",
            "text/plain": [
              "<Figure size 432x288 with 1 Axes>"
            ]
          },
          "metadata": {
            "tags": [],
            "needs_background": "light"
          }
        }
      ]
    },
    {
      "cell_type": "code",
      "metadata": {
        "id": "vxKcedml8Nn3",
        "colab": {
          "base_uri": "https://localhost:8080/",
          "height": 645
        },
        "outputId": "41181a07-fb2f-478f-9dc9-1ca2dad64f45"
      },
      "source": [
        "#df['price'].plot(kind='hist', figsize=(10, 8), linewidth=2, color='whitesmoke', edgecolor='gray')\r\n",
        "plt.figure(figsize=(20,10))\r\n",
        "plt.hist(df['price'], bins=111 )\r\n",
        "\r\n",
        "plt.xlabel(\"price [€]\", labelpad=15)\r\n",
        "plt.ylabel(\"frequency\", labelpad=15)\r\n",
        "#plt.xscale('log')\r\n",
        "#plt.yscale('log')\r\n",
        "plt.title(\"Distribution of price\", y=1.012, fontsize=22)\r\n",
        "measurements = [df['price'].mode()[0], df['price'].median(), df['price'].mean()]\r\n",
        "names = [\"mode\", \"median\", \"mean\"]\r\n",
        "colors = ['green', 'blue', 'orange']\r\n",
        "for measurement, name, color in zip(measurements, names, colors):\r\n",
        "    plt.axvline(x=measurement, linestyle='--', linewidth=2.5, label='{0} at {1}'.format(name, measurement), c=color)\r\n",
        "plt.legend();"
      ],
      "execution_count": 21,
      "outputs": [
        {
          "output_type": "display_data",
          "data": {
            "image/png": "[encoded data removed]",
            "text/plain": [
              "<Figure size 1440x720 with 1 Axes>"
            ]
          },
          "metadata": {
            "tags": [],
            "needs_background": "light"
          }
        }
      ]
    },
    {
      "cell_type": "code",
      "metadata": {
        "id": "94Nm3-1TN-Kj"
      },
      "source": [
        "def nsmall(a, n):\r\n",
        "    return np.partition(a, n)[n]"
      ],
      "execution_count": 25,
      "outputs": []
    },
    {
      "cell_type": "code",
      "metadata": {
        "id": "doFoji6BCkjB",
        "outputId": "911a3c79-1f6d-4896-bec7-8cc3830f0f36",
        "colab": {
          "base_uri": "https://localhost:8080/"
        }
      },
      "source": [
        "df[\"on_off\"] = df.price.rolling(window=24,min_periods=4).apply(lambda x: nsmall(x, 3))\r\n",
        "df.price.rolling(window=24,min_periods=1)\r\n",
        "df[\"on_off\"]"
      ],
      "execution_count": 30,
      "outputs": [
        {
          "output_type": "execute_result",
          "data": {
            "text/plain": [
              "0         NaN\n",
              "1         NaN\n",
              "2         NaN\n",
              "3       32.32\n",
              "4       31.08\n",
              "        ...  \n",
              "8778     5.13\n",
              "8779     5.13\n",
              "8780     5.13\n",
              "8781     5.13\n",
              "8782     5.13\n",
              "Name: on_off, Length: 8783, dtype: float64"
            ]
          },
          "metadata": {
            "tags": []
          },
          "execution_count": 30
        }
      ]
    },
    {
      "cell_type": "code",
      "metadata": {
        "id": "0Kz5MSa8dyMy"
      },
      "source": [
        "import sklearn.metrics as metrics\r\n",
        "def regression_results(y_true, y_pred):\r\n",
        "# Regression metrics\r\n",
        "    explained_variance=metrics.explained_variance_score(y_true, y_pred)\r\n",
        "    mean_absolute_error=metrics.mean_absolute_error(y_true, y_pred) \r\n",
        "    mse=metrics.mean_squared_error(y_true, y_pred) \r\n",
        "    mean_squared_log_error=metrics.mean_squared_log_error(y_true+abs(y_true.min()), y_pred+abs(y_true.min()))\r\n",
        "    median_absolute_error=metrics.median_absolute_error(y_true, y_pred)\r\n",
        "    r2=metrics.r2_score(y_true, y_pred)\r\n",
        "    print('explained_variance: ', round(explained_variance,4))    \r\n",
        "    print('mean_squared_log_error: ', round(mean_squared_log_error,4))\r\n",
        "    print('r2: ', round(r2,4))\r\n",
        "    print('MAE: ', round(mean_absolute_error,4))\r\n",
        "    print('MSE: ', round(mse,4))\r\n",
        "    print('RMSE: ', round(np.sqrt(mse),4))"
      ],
      "execution_count": 7,
      "outputs": []
    },
    {
      "cell_type": "code",
      "metadata": {
        "id": "2T4lxwZZhpjG"
      },
      "source": [
        "data = df.copy()\r\n",
        "# creating new dataframe from consumption column\r\n",
        "data_consumption = df.copy()\r\n",
        "# inserting new column with yesterday's consumption values\r\n",
        "#data_consumption.loc[:,'1h'] = data_consumption.loc[:,'price'].shift()\r\n",
        "# inserting another column with difference between yesterday and day before yesterday's consumption values.\r\n",
        "#data_consumption.loc[:,'1h_Diff'] = data_consumption.loc[:,'1h'].diff()\r\n",
        "\r\n",
        "data_consumption['avg24h'] = data_consumption.price.rolling(window=24,min_periods=1).mean()\r\n",
        "# dropping NAs\r\n",
        "data_consumption = data_consumption.dropna()\r\n"
      ],
      "execution_count": 8,
      "outputs": []
    },
    {
      "cell_type": "code",
      "metadata": {
        "id": "Tp4DhQHTtfCt",
        "colab": {
          "base_uri": "https://localhost:8080/"
        },
        "outputId": "b7020678-83d3-4e30-b501-dd0e74b3b5cf"
      },
      "source": [
        "\r\n",
        "len(data_consumption[:int(len(data_consumption[:])*0.8)])"
      ],
      "execution_count": 9,
      "outputs": [
        {
          "output_type": "execute_result",
          "data": {
            "text/plain": [
              "92"
            ]
          },
          "metadata": {
            "tags": []
          },
          "execution_count": 9
        }
      ]
    },
    {
      "cell_type": "code",
      "metadata": {
        "id": "NrkEaCtdiMOk",
        "colab": {
          "base_uri": "https://localhost:8080/"
        },
        "outputId": "74635704-db42-4f5a-cc0c-0abdcedb5854"
      },
      "source": [
        "num = int(len(data_consumption[:])*0.8)\r\n",
        "print(num)\r\n",
        "X_train = data_consumption[:num].drop(['price', 'datetime'], axis = 1)\r\n",
        "y_train = data_consumption.price[:num]\r\n",
        "X_test = data_consumption[num:].drop(['price','datetime'], axis = 1)\r\n",
        "y_test = data_consumption.price[num:]"
      ],
      "execution_count": 10,
      "outputs": [
        {
          "output_type": "stream",
          "text": [
            "92\n"
          ],
          "name": "stdout"
        }
      ]
    },
    {
      "cell_type": "code",
      "metadata": {
        "id": "8U7NouDKywcK",
        "colab": {
          "base_uri": "https://localhost:8080/"
        },
        "outputId": "f64a8884-4dc1-41c5-b46f-8ed8933cd9da"
      },
      "source": [
        "y_train"
      ],
      "execution_count": 11,
      "outputs": [
        {
          "output_type": "execute_result",
          "data": {
            "text/plain": [
              "0     40.20\n",
              "1      9.26\n",
              "2     40.14\n",
              "3      8.85\n",
              "4      5.77\n",
              "      ...  \n",
              "89    40.10\n",
              "90    44.82\n",
              "91    57.19\n",
              "92    57.18\n",
              "93    62.72\n",
              "Name: price, Length: 92, dtype: float64"
            ]
          },
          "metadata": {
            "tags": []
          },
          "execution_count": 11
        }
      ]
    },
    {
      "cell_type": "code",
      "metadata": {
        "id": "GGqUoBM2vqp6",
        "colab": {
          "base_uri": "https://localhost:8080/",
          "height": 570
        },
        "outputId": "18265a2a-7062-4196-e61a-d02bd15de59c"
      },
      "source": [
        "\r\n",
        "\r\n",
        "# Spot Check Algorithms\r\n",
        "models = []\r\n",
        "models.append(('LR', LinearRegression()))\r\n",
        "models.append(('NN', MLPRegressor(solver = 'lbfgs')))  #neural network\r\n",
        "models.append(('KNN', KNeighborsRegressor())) \r\n",
        "models.append(('RF', RandomForestRegressor(n_estimators = 10))) # Ensemble method - collection of many decision trees\r\n",
        "models.append(('SVR', SVR(gamma='auto'))) # kernel = linear\r\n",
        "# Evaluate each model in turn\r\n",
        "results = []\r\n",
        "names = []\r\n",
        "for name, model in models:\r\n",
        "    # TimeSeries Cross validation\r\n",
        " tscv = TimeSeriesSplit(n_splits=10)\r\n",
        "    \r\n",
        " cv_results = cross_val_score(model, X_train, y_train, cv=tscv, scoring='r2')\r\n",
        " results.append(cv_results)\r\n",
        " names.append(name)\r\n",
        " print('%s: %f (%f)' % (name, cv_results.mean(), cv_results.std()))\r\n",
        "    \r\n",
        "# Compare Algorithms\r\n",
        "plt.boxplot(results, labels=names)\r\n",
        "plt.title('Algorithm Comparison')\r\n",
        "plt.show()"
      ],
      "execution_count": 12,
      "outputs": [
        {
          "output_type": "stream",
          "text": [
            "LR: -418.318953 (898.288621)\n",
            "NN: -75.820861 (177.311186)\n",
            "KNN: -120.539107 (313.985129)\n"
          ],
          "name": "stdout"
        },
        {
          "output_type": "stream",
          "text": [
            "/usr/local/lib/python3.6/dist-packages/sklearn/neural_network/_multilayer_perceptron.py:470: ConvergenceWarning: lbfgs failed to converge (status=2):\n",
            "ABNORMAL_TERMINATION_IN_LNSRCH.\n",
            "\n",
            "Increase the number of iterations (max_iter) or scale the data as shown in:\n",
            "    https://scikit-learn.org/stable/modules/preprocessing.html\n",
            "  self.n_iter_ = _check_optimize_result(\"lbfgs\", opt_res, self.max_iter)\n",
            "/usr/local/lib/python3.6/dist-packages/sklearn/neural_network/_multilayer_perceptron.py:470: ConvergenceWarning: lbfgs failed to converge (status=2):\n",
            "ABNORMAL_TERMINATION_IN_LNSRCH.\n",
            "\n",
            "Increase the number of iterations (max_iter) or scale the data as shown in:\n",
            "    https://scikit-learn.org/stable/modules/preprocessing.html\n",
            "  self.n_iter_ = _check_optimize_result(\"lbfgs\", opt_res, self.max_iter)\n"
          ],
          "name": "stderr"
        },
        {
          "output_type": "stream",
          "text": [
            "RF: -97.861625 (251.860802)\n",
            "SVR: -42.796049 (107.034553)\n"
          ],
          "name": "stdout"
        },
        {
          "output_type": "display_data",
          "data": {
            "image/png": "[encoded data removed]",
            "text/plain": [
              "<Figure size 432x288 with 1 Axes>"
            ]
          },
          "metadata": {
            "tags": [],
            "needs_background": "light"
          }
        }
      ]
    },
    {
      "cell_type": "code",
      "metadata": {
        "id": "0y8mOdgjv7nz"
      },
      "source": [
        "from sklearn.model_selection import GridSearchCV\r\n",
        "from sklearn.metrics import *\r\n",
        "\r\n",
        "\r\n",
        "model = RandomForestRegressor()\r\n",
        "param_search = { \r\n",
        "    'n_estimators': [ 100, 200, 300],\r\n",
        "    'max_features': ['auto', 'sqrt', 'log2'],\r\n",
        "    'max_depth' : [i for i in range(3,11)]\r\n",
        "}\r\n",
        "tscv = TimeSeriesSplit(n_splits=10)\r\n",
        "gsearch = GridSearchCV(estimator=model, cv=tscv, param_grid=param_search, scoring = 'neg_mean_squared_error')\r\n",
        "gsearch.fit(X_train, y_train)\r\n",
        "best_score = gsearch.best_score_\r\n",
        "best_model = gsearch.best_estimator_"
      ],
      "execution_count": 13,
      "outputs": []
    },
    {
      "cell_type": "code",
      "metadata": {
        "id": "1rTD9Ac744-F",
        "colab": {
          "base_uri": "https://localhost:8080/"
        },
        "outputId": "2fdafba4-97e8-426d-b5b2-abb7ed5edd3d"
      },
      "source": [
        "y_true = y_test.values\r\n",
        "y_pred = best_model.predict(X_test)\r\n",
        "regression_results(y_true, y_pred)"
      ],
      "execution_count": 14,
      "outputs": [
        {
          "output_type": "stream",
          "text": [
            "explained_variance:  0.2523\n",
            "mean_squared_log_error:  0.1343\n",
            "r2:  0.2402\n",
            "MAE:  15.0873\n",
            "MSE:  279.8513\n",
            "RMSE:  16.7288\n"
          ],
          "name": "stdout"
        }
      ]
    },
    {
      "cell_type": "code",
      "metadata": {
        "id": "iEbEgyNS_aVr",
        "colab": {
          "base_uri": "https://localhost:8080/",
          "height": 295
        },
        "outputId": "4f9f5010-9453-446a-d706-02934fb20310"
      },
      "source": [
        "imp = best_model.feature_importances_\r\n",
        "features = X_train.columns\r\n",
        "indices = np.argsort(imp)\r\n",
        "plt.title('Feature Importances')\r\n",
        "plt.barh(range(len(indices)), imp[indices], color='b', align='center')\r\n",
        "plt.yticks(range(len(indices)), [features[i] for i in indices])\r\n",
        "plt.xlabel('Relative Importance')\r\n",
        "plt.show()"
      ],
      "execution_count": 15,
      "outputs": [
        {
          "output_type": "display_data",
          "data": {
            "image/png": "[encoded data removed]",
            "text/plain": [
              "<Figure size 432x288 with 1 Axes>"
            ]
          },
          "metadata": {
            "tags": [],
            "needs_background": "light"
          }
        }
      ]
    },
    {
      "cell_type": "code",
      "metadata": {
        "id": "PUAtBRXRIetB",
        "colab": {
          "base_uri": "https://localhost:8080/",
          "height": 609
        },
        "outputId": "7f3f4d4c-d4f7-4e1f-e039-8dd0f19e5af5"
      },
      "source": [
        "a =df.loc[:,['price','datetime']][-35:]\r\n",
        "\r\n",
        "plt.figure(figsize=(20,10))\r\n",
        "plt.plot(pd.to_datetime(a.datetime).dt.tz_localize('Europe/Tallinn'), a.price,  marker='o')\r\n",
        "plt.plot(pd.to_datetime( X_test['timestamp'][-35:], unit='s').dt.tz_localize('Europe/Tallinn'), best_model.predict(X_test)[-35:],  marker='o',color='green')\r\n",
        "#plt.plot(pd.to_datetime( X_test['timestamp'][-35:], unit='s').dt.tz_localize('Europe/Tallinn'), best_model.predict(X_test)[-35:]-a.price,  marker='x',color='cyan')\r\n",
        "plt.grid(b=None, which='major', axis='both')\r\n",
        "plt.axvline(x= pd.Timestamp.now(tz = 'Europe/Tallinn'), color='red')"
      ],
      "execution_count": 16,
      "outputs": [
        {
          "output_type": "execute_result",
          "data": {
            "text/plain": [
              "<matplotlib.lines.Line2D at 0x7f421fe18400>"
            ]
          },
          "metadata": {
            "tags": []
          },
          "execution_count": 16
        },
        {
          "output_type": "display_data",
          "data": {
            "image/png": "[encoded data removed]",
            "text/plain": [
              "<Figure size 1440x720 with 1 Axes>"
            ]
          },
          "metadata": {
            "tags": [],
            "needs_background": "light"
          }
        }
      ]
    },
    {
      "cell_type": "code",
      "metadata": {
        "id": "p3_qEw-3bnBq"
      },
      "source": [
        ""
      ],
      "execution_count": 16,
      "outputs": []
    }
  ]
}